{
 "cells": [
  {
   "cell_type": "markdown",
   "id": "c44674e6",
   "metadata": {},
   "source": [
    "### importacion de librerias necesarias"
   ]
  },
  {
   "cell_type": "code",
   "execution_count": 30,
   "id": "1b9af2b6",
   "metadata": {},
   "outputs": [],
   "source": [
    "import pandas as pd\n",
    "import numpy as np\n",
    "import matplotlib.pyplot as plt\n",
    "import seaborn as sns"
   ]
  },
  {
   "cell_type": "markdown",
   "id": "12803244",
   "metadata": {},
   "source": [
    "### Extraer los datos "
   ]
  },
  {
   "cell_type": "code",
   "execution_count": 31,
   "id": "a927f6e3",
   "metadata": {},
   "outputs": [],
   "source": [
    "df = pd.read_json('../data/MLA_100k.jsonlines', lines=True)"
   ]
  },
  {
   "cell_type": "code",
   "execution_count": 32,
   "id": "a2448803",
   "metadata": {},
   "outputs": [
    {
     "data": {
      "text/html": [
       "<div>\n",
       "<style scoped>\n",
       "    .dataframe tbody tr th:only-of-type {\n",
       "        vertical-align: middle;\n",
       "    }\n",
       "\n",
       "    .dataframe tbody tr th {\n",
       "        vertical-align: top;\n",
       "    }\n",
       "\n",
       "    .dataframe thead th {\n",
       "        text-align: right;\n",
       "    }\n",
       "</style>\n",
       "<table border=\"1\" class=\"dataframe\">\n",
       "  <thead>\n",
       "    <tr style=\"text-align: right;\">\n",
       "      <th></th>\n",
       "      <th>seller_address</th>\n",
       "      <th>warranty</th>\n",
       "      <th>sub_status</th>\n",
       "      <th>condition</th>\n",
       "      <th>seller_contact</th>\n",
       "      <th>deal_ids</th>\n",
       "      <th>base_price</th>\n",
       "      <th>shipping</th>\n",
       "      <th>non_mercado_pago_payment_methods</th>\n",
       "      <th>seller_id</th>\n",
       "      <th>...</th>\n",
       "      <th>status</th>\n",
       "      <th>video_id</th>\n",
       "      <th>catalog_product_id</th>\n",
       "      <th>subtitle</th>\n",
       "      <th>initial_quantity</th>\n",
       "      <th>start_time</th>\n",
       "      <th>permalink</th>\n",
       "      <th>geolocation</th>\n",
       "      <th>sold_quantity</th>\n",
       "      <th>available_quantity</th>\n",
       "    </tr>\n",
       "  </thead>\n",
       "  <tbody>\n",
       "    <tr>\n",
       "      <th>0</th>\n",
       "      <td>{'comment': '', 'longitude': -58.3986709, 'id'...</td>\n",
       "      <td>None</td>\n",
       "      <td>[]</td>\n",
       "      <td>new</td>\n",
       "      <td>None</td>\n",
       "      <td>[]</td>\n",
       "      <td>80.0</td>\n",
       "      <td>{'local_pick_up': True, 'methods': [], 'tags':...</td>\n",
       "      <td>[{'description': 'Transferencia bancaria', 'id...</td>\n",
       "      <td>74952096</td>\n",
       "      <td>...</td>\n",
       "      <td>active</td>\n",
       "      <td>None</td>\n",
       "      <td>NaN</td>\n",
       "      <td>NaN</td>\n",
       "      <td>1</td>\n",
       "      <td>2015-09-05 20:42:53+00:00</td>\n",
       "      <td>http://articulo.mercadolibre.com.ar/MLA-578052...</td>\n",
       "      <td>{'latitude': -34.6280698, 'longitude': -58.398...</td>\n",
       "      <td>0</td>\n",
       "      <td>1</td>\n",
       "    </tr>\n",
       "    <tr>\n",
       "      <th>1</th>\n",
       "      <td>{'comment': '', 'longitude': -58.5059173, 'id'...</td>\n",
       "      <td>NUESTRA REPUTACION</td>\n",
       "      <td>[]</td>\n",
       "      <td>used</td>\n",
       "      <td>None</td>\n",
       "      <td>[]</td>\n",
       "      <td>2650.0</td>\n",
       "      <td>{'local_pick_up': True, 'methods': [], 'tags':...</td>\n",
       "      <td>[{'description': 'Transferencia bancaria', 'id...</td>\n",
       "      <td>42093335</td>\n",
       "      <td>...</td>\n",
       "      <td>active</td>\n",
       "      <td>None</td>\n",
       "      <td>NaN</td>\n",
       "      <td>NaN</td>\n",
       "      <td>1</td>\n",
       "      <td>2015-09-26 18:08:30+00:00</td>\n",
       "      <td>http://articulo.mercadolibre.com.ar/MLA-581565...</td>\n",
       "      <td>{'latitude': -34.5935524, 'longitude': -58.505...</td>\n",
       "      <td>0</td>\n",
       "      <td>1</td>\n",
       "    </tr>\n",
       "    <tr>\n",
       "      <th>2</th>\n",
       "      <td>{'comment': '', 'longitude': -58.4143948, 'id'...</td>\n",
       "      <td>None</td>\n",
       "      <td>[]</td>\n",
       "      <td>used</td>\n",
       "      <td>None</td>\n",
       "      <td>[]</td>\n",
       "      <td>60.0</td>\n",
       "      <td>{'local_pick_up': True, 'methods': [], 'tags':...</td>\n",
       "      <td>[{'description': 'Transferencia bancaria', 'id...</td>\n",
       "      <td>133384258</td>\n",
       "      <td>...</td>\n",
       "      <td>active</td>\n",
       "      <td>None</td>\n",
       "      <td>NaN</td>\n",
       "      <td>NaN</td>\n",
       "      <td>1</td>\n",
       "      <td>2015-09-09 23:57:07+00:00</td>\n",
       "      <td>http://articulo.mercadolibre.com.ar/MLA-578780...</td>\n",
       "      <td>{'latitude': -34.6233907, 'longitude': -58.414...</td>\n",
       "      <td>0</td>\n",
       "      <td>1</td>\n",
       "    </tr>\n",
       "    <tr>\n",
       "      <th>3</th>\n",
       "      <td>{'comment': '', 'longitude': -58.4929208, 'id'...</td>\n",
       "      <td>None</td>\n",
       "      <td>[]</td>\n",
       "      <td>new</td>\n",
       "      <td>None</td>\n",
       "      <td>[]</td>\n",
       "      <td>580.0</td>\n",
       "      <td>{'local_pick_up': True, 'methods': [], 'tags':...</td>\n",
       "      <td>[{'description': 'Transferencia bancaria', 'id...</td>\n",
       "      <td>143001605</td>\n",
       "      <td>...</td>\n",
       "      <td>active</td>\n",
       "      <td>None</td>\n",
       "      <td>NaN</td>\n",
       "      <td>NaN</td>\n",
       "      <td>1</td>\n",
       "      <td>2015-09-28 18:47:56+00:00</td>\n",
       "      <td>http://articulo.mercadolibre.com.ar/MLA-581877...</td>\n",
       "      <td>{'latitude': -34.6281894, 'longitude': -58.492...</td>\n",
       "      <td>0</td>\n",
       "      <td>1</td>\n",
       "    </tr>\n",
       "    <tr>\n",
       "      <th>4</th>\n",
       "      <td>{'comment': '', 'longitude': -58.5495042, 'id'...</td>\n",
       "      <td>MI REPUTACION.</td>\n",
       "      <td>[]</td>\n",
       "      <td>used</td>\n",
       "      <td>None</td>\n",
       "      <td>[]</td>\n",
       "      <td>30.0</td>\n",
       "      <td>{'local_pick_up': True, 'methods': [], 'tags':...</td>\n",
       "      <td>[{'description': 'Transferencia bancaria', 'id...</td>\n",
       "      <td>96873449</td>\n",
       "      <td>...</td>\n",
       "      <td>active</td>\n",
       "      <td>None</td>\n",
       "      <td>NaN</td>\n",
       "      <td>NaN</td>\n",
       "      <td>1</td>\n",
       "      <td>2015-08-24 22:07:20+00:00</td>\n",
       "      <td>http://articulo.mercadolibre.com.ar/MLA-576112...</td>\n",
       "      <td>{'latitude': -34.6346547, 'longitude': -58.549...</td>\n",
       "      <td>0</td>\n",
       "      <td>1</td>\n",
       "    </tr>\n",
       "  </tbody>\n",
       "</table>\n",
       "<p>5 rows × 48 columns</p>\n",
       "</div>"
      ],
      "text/plain": [
       "                                      seller_address            warranty  \\\n",
       "0  {'comment': '', 'longitude': -58.3986709, 'id'...                None   \n",
       "1  {'comment': '', 'longitude': -58.5059173, 'id'...  NUESTRA REPUTACION   \n",
       "2  {'comment': '', 'longitude': -58.4143948, 'id'...                None   \n",
       "3  {'comment': '', 'longitude': -58.4929208, 'id'...                None   \n",
       "4  {'comment': '', 'longitude': -58.5495042, 'id'...      MI REPUTACION.   \n",
       "\n",
       "  sub_status condition seller_contact deal_ids  base_price  \\\n",
       "0         []       new           None       []        80.0   \n",
       "1         []      used           None       []      2650.0   \n",
       "2         []      used           None       []        60.0   \n",
       "3         []       new           None       []       580.0   \n",
       "4         []      used           None       []        30.0   \n",
       "\n",
       "                                            shipping  \\\n",
       "0  {'local_pick_up': True, 'methods': [], 'tags':...   \n",
       "1  {'local_pick_up': True, 'methods': [], 'tags':...   \n",
       "2  {'local_pick_up': True, 'methods': [], 'tags':...   \n",
       "3  {'local_pick_up': True, 'methods': [], 'tags':...   \n",
       "4  {'local_pick_up': True, 'methods': [], 'tags':...   \n",
       "\n",
       "                    non_mercado_pago_payment_methods  seller_id  ...  status  \\\n",
       "0  [{'description': 'Transferencia bancaria', 'id...   74952096  ...  active   \n",
       "1  [{'description': 'Transferencia bancaria', 'id...   42093335  ...  active   \n",
       "2  [{'description': 'Transferencia bancaria', 'id...  133384258  ...  active   \n",
       "3  [{'description': 'Transferencia bancaria', 'id...  143001605  ...  active   \n",
       "4  [{'description': 'Transferencia bancaria', 'id...   96873449  ...  active   \n",
       "\n",
       "  video_id catalog_product_id subtitle  initial_quantity  \\\n",
       "0     None                NaN      NaN                 1   \n",
       "1     None                NaN      NaN                 1   \n",
       "2     None                NaN      NaN                 1   \n",
       "3     None                NaN      NaN                 1   \n",
       "4     None                NaN      NaN                 1   \n",
       "\n",
       "                 start_time  \\\n",
       "0 2015-09-05 20:42:53+00:00   \n",
       "1 2015-09-26 18:08:30+00:00   \n",
       "2 2015-09-09 23:57:07+00:00   \n",
       "3 2015-09-28 18:47:56+00:00   \n",
       "4 2015-08-24 22:07:20+00:00   \n",
       "\n",
       "                                           permalink  \\\n",
       "0  http://articulo.mercadolibre.com.ar/MLA-578052...   \n",
       "1  http://articulo.mercadolibre.com.ar/MLA-581565...   \n",
       "2  http://articulo.mercadolibre.com.ar/MLA-578780...   \n",
       "3  http://articulo.mercadolibre.com.ar/MLA-581877...   \n",
       "4  http://articulo.mercadolibre.com.ar/MLA-576112...   \n",
       "\n",
       "                                         geolocation sold_quantity  \\\n",
       "0  {'latitude': -34.6280698, 'longitude': -58.398...             0   \n",
       "1  {'latitude': -34.5935524, 'longitude': -58.505...             0   \n",
       "2  {'latitude': -34.6233907, 'longitude': -58.414...             0   \n",
       "3  {'latitude': -34.6281894, 'longitude': -58.492...             0   \n",
       "4  {'latitude': -34.6346547, 'longitude': -58.549...             0   \n",
       "\n",
       "  available_quantity  \n",
       "0                  1  \n",
       "1                  1  \n",
       "2                  1  \n",
       "3                  1  \n",
       "4                  1  \n",
       "\n",
       "[5 rows x 48 columns]"
      ]
     },
     "execution_count": 32,
     "metadata": {},
     "output_type": "execute_result"
    }
   ],
   "source": [
    "df.head()"
   ]
  },
  {
   "cell_type": "code",
   "execution_count": 33,
   "id": "90f1b48f",
   "metadata": {},
   "outputs": [
    {
     "name": "stdout",
     "output_type": "stream",
     "text": [
      "<class 'pandas.core.frame.DataFrame'>\n",
      "RangeIndex: 100000 entries, 0 to 99999\n",
      "Data columns (total 48 columns):\n",
      " #   Column                            Non-Null Count   Dtype              \n",
      "---  ------                            --------------   -----              \n",
      " 0   seller_address                    100000 non-null  object             \n",
      " 1   warranty                          39104 non-null   object             \n",
      " 2   sub_status                        100000 non-null  object             \n",
      " 3   condition                         100000 non-null  object             \n",
      " 4   seller_contact                    2219 non-null    object             \n",
      " 5   deal_ids                          100000 non-null  object             \n",
      " 6   base_price                        100000 non-null  float64            \n",
      " 7   shipping                          100000 non-null  object             \n",
      " 8   non_mercado_pago_payment_methods  100000 non-null  object             \n",
      " 9   seller_id                         100000 non-null  int64              \n",
      " 10  variations                        100000 non-null  object             \n",
      " 11  location                          100000 non-null  object             \n",
      " 12  site_id                           100000 non-null  object             \n",
      " 13  listing_type_id                   100000 non-null  object             \n",
      " 14  price                             100000 non-null  float64            \n",
      " 15  attributes                        100000 non-null  object             \n",
      " 16  buying_mode                       100000 non-null  object             \n",
      " 17  tags                              100000 non-null  object             \n",
      " 18  listing_source                    100000 non-null  object             \n",
      " 19  parent_item_id                    76989 non-null   object             \n",
      " 20  coverage_areas                    100000 non-null  object             \n",
      " 21  category_id                       100000 non-null  object             \n",
      " 22  descriptions                      100000 non-null  object             \n",
      " 23  last_updated                      100000 non-null  object             \n",
      " 24  international_delivery_mode       100000 non-null  object             \n",
      " 25  pictures                          100000 non-null  object             \n",
      " 26  id                                100000 non-null  object             \n",
      " 27  official_store_id                 818 non-null     float64            \n",
      " 28  differential_pricing              0 non-null       float64            \n",
      " 29  accepts_mercadopago               100000 non-null  bool               \n",
      " 30  original_price                    143 non-null     float64            \n",
      " 31  currency_id                       100000 non-null  object             \n",
      " 32  thumbnail                         100000 non-null  object             \n",
      " 33  title                             100000 non-null  object             \n",
      " 34  automatic_relist                  100000 non-null  bool               \n",
      " 35  date_created                      100000 non-null  object             \n",
      " 36  secure_thumbnail                  100000 non-null  object             \n",
      " 37  stop_time                         100000 non-null  datetime64[ns, UTC]\n",
      " 38  status                            100000 non-null  object             \n",
      " 39  video_id                          2985 non-null    object             \n",
      " 40  catalog_product_id                11 non-null      float64            \n",
      " 41  subtitle                          0 non-null       float64            \n",
      " 42  initial_quantity                  100000 non-null  int64              \n",
      " 43  start_time                        100000 non-null  datetime64[ns, UTC]\n",
      " 44  permalink                         100000 non-null  object             \n",
      " 45  geolocation                       100000 non-null  object             \n",
      " 46  sold_quantity                     100000 non-null  int64              \n",
      " 47  available_quantity                100000 non-null  int64              \n",
      "dtypes: bool(2), datetime64[ns, UTC](2), float64(7), int64(4), object(33)\n",
      "memory usage: 35.3+ MB\n"
     ]
    }
   ],
   "source": [
    "df.info()"
   ]
  },
  {
   "cell_type": "code",
   "execution_count": 34,
   "id": "073346e2",
   "metadata": {},
   "outputs": [
    {
     "data": {
      "text/plain": [
       "Index(['seller_address', 'warranty', 'sub_status', 'condition',\n",
       "       'seller_contact', 'deal_ids', 'base_price', 'shipping',\n",
       "       'non_mercado_pago_payment_methods', 'seller_id', 'variations',\n",
       "       'location', 'site_id', 'listing_type_id', 'price', 'attributes',\n",
       "       'buying_mode', 'tags', 'listing_source', 'parent_item_id',\n",
       "       'coverage_areas', 'category_id', 'descriptions', 'last_updated',\n",
       "       'international_delivery_mode', 'pictures', 'id', 'official_store_id',\n",
       "       'differential_pricing', 'accepts_mercadopago', 'original_price',\n",
       "       'currency_id', 'thumbnail', 'title', 'automatic_relist', 'date_created',\n",
       "       'secure_thumbnail', 'stop_time', 'status', 'video_id',\n",
       "       'catalog_product_id', 'subtitle', 'initial_quantity', 'start_time',\n",
       "       'permalink', 'geolocation', 'sold_quantity', 'available_quantity'],\n",
       "      dtype='object')"
      ]
     },
     "execution_count": 34,
     "metadata": {},
     "output_type": "execute_result"
    }
   ],
   "source": [
    "df.columns"
   ]
  },
  {
   "cell_type": "markdown",
   "id": "7ffd8c29",
   "metadata": {},
   "source": [
    "### Análisis detallado de la variable objetivo (condition)"
   ]
  },
  {
   "cell_type": "code",
   "execution_count": 35,
   "id": "6d137469",
   "metadata": {},
   "outputs": [
    {
     "name": "stdout",
     "output_type": "stream",
     "text": [
      "Distribución de la variable 'condition':\n",
      "condition\n",
      "new     0.53758\n",
      "used    0.46242\n",
      "Name: proportion, dtype: float64\n"
     ]
    }
   ],
   "source": [
    "print(\"Distribución de la variable 'condition':\")\n",
    "condition_counts = df['condition'].value_counts(normalize=True)\n",
    "print(condition_counts)"
   ]
  },
  {
   "cell_type": "markdown",
   "id": "a1f52875",
   "metadata": {},
   "source": [
    "Observaciones:\n",
    "- La variable 'condition' indica si un producto es nuevo ('new') o usado ('used').\n",
    "- Proporción de clases: {'new': 0.53758, 'used': 0.46242}"
   ]
  },
  {
   "cell_type": "markdown",
   "id": "3b5f378d",
   "metadata": {},
   "source": [
    "### Análisis de Valores Faltantes "
   ]
  },
  {
   "cell_type": "code",
   "execution_count": 36,
   "id": "38120bcc",
   "metadata": {},
   "outputs": [
    {
     "name": "stdout",
     "output_type": "stream",
     "text": [
      "Columnas con valores faltantes:\n",
      "                      Valores Faltantes  Porcentaje (%)\n",
      "warranty                          60896          60.896\n",
      "seller_contact                    97781          97.781\n",
      "parent_item_id                    23011          23.011\n",
      "official_store_id                 99182          99.182\n",
      "differential_pricing             100000         100.000\n",
      "original_price                    99857          99.857\n",
      "video_id                          97015          97.015\n",
      "catalog_product_id                99989          99.989\n",
      "subtitle                         100000         100.000\n"
     ]
    }
   ],
   "source": [
    "missing = df.isnull().sum()\n",
    "missing_percent = missing / len(df) * 100\n",
    "missing_df = pd.DataFrame({'Valores Faltantes': missing, 'Porcentaje (%)': missing_percent})\n",
    "print(\"Columnas con valores faltantes:\")\n",
    "print(missing_df[missing_df['Valores Faltantes'] > 0])"
   ]
  },
  {
   "cell_type": "markdown",
   "id": "11e262b5",
   "metadata": {},
   "source": [
    "Decisiones sobre valores faltantes:\n",
    "- Columnas con >90% de valores faltantes (differential_pricing, subtitle, catalog_product_id, original_price, official_store_id): Eliminar.\n",
    "- warranty (39% no nulos): Imputar con 'No warranty' y crear variable binaria 'has_warranty'. Pero para esto vamos a revisar la variable \"Warranty\"\n",
    "- seller_contact, video_id: Eliminar debido a baja completitud (<3%).\n",
    "- parent_item_id (77% no nulos): Eliminar, ya que no es crítico para predecir 'condition'."
   ]
  },
  {
   "cell_type": "markdown",
   "id": "2dc52f5a",
   "metadata": {},
   "source": [
    "#### Variable Warranty"
   ]
  },
  {
   "cell_type": "code",
   "execution_count": 37,
   "id": "de9d57ad",
   "metadata": {},
   "outputs": [
    {
     "name": "stdout",
     "output_type": "stream",
     "text": [
      "warranty\n",
      "Sí                                                                       5682\n",
      "Sin garantía                                                             5442\n",
      "SI                                                                        592\n",
      "6 meses                                                                   547\n",
      "6 MESES                                                                   397\n",
      "                                                                         ... \n",
      "Garantía de un año a partir de la fecha de entrega!                         1\n",
      "Garantía 1 año. La misma no incluye daños por mal uso o accidentales.       1\n",
      "SE PRUEBAN LOS JUEGOS AL RETIRAR                                            1\n",
      "Mi garantía son los comentarios de mis compradores.                         1\n",
      "Pueden variar matasellos                                                    1\n",
      "Name: count, Length: 10264, dtype: int64\n"
     ]
    },
    {
     "data": {
      "text/plain": [
       "10264"
      ]
     },
     "execution_count": 37,
     "metadata": {},
     "output_type": "execute_result"
    }
   ],
   "source": [
    "print(df['warranty'].value_counts())\n",
    "df['warranty'].nunique()"
   ]
  },
  {
   "cell_type": "markdown",
   "id": "6159fa47",
   "metadata": {},
   "source": [
    "Esto confirma que warranty:\n",
    "\n",
    "- Está llena de texto libre.\n",
    "\n",
    "- Tiene mucho ruido (textos promocionales, subjetivos, informales).\n",
    "\n",
    "- No hay una estructura confiable para usarla directamente.\n",
    "\n",
    "Dado su ruido y ambigüedad, no va a aportar señal clara al modelo y puede hasta introducir error o sobreajuste, por lo que es mejor elminarla. "
   ]
  },
  {
   "cell_type": "markdown",
   "id": "907559c4",
   "metadata": {},
   "source": [
    "### Aplanamiento de Datos Anidados y Características Derivadas"
   ]
  },
  {
   "cell_type": "code",
   "execution_count": 38,
   "id": "84de13a1",
   "metadata": {},
   "outputs": [],
   "source": [
    "# Extraer número de métodos de pago no-MercadoPago\n",
    "def extract_num_payment_methods(methods):\n",
    "    return len(methods) if isinstance(methods, list) else 0\n",
    "\n",
    "# Extraer flags de envío\n",
    "def extract_free_shipping(shipping):\n",
    "    return shipping.get('free_shipping', False)\n",
    "\n",
    "def extract_local_pick_up(shipping):\n",
    "    return shipping.get('local_pick_up', False)\n",
    "\n",
    "def extract_num_pictures(pictures):\n",
    "    try:\n",
    "        pics = eval(pictures) if isinstance(pictures, str) and pictures != 'Unknown' else []\n",
    "        return len(pics) if isinstance(pics, list) else 0\n",
    "    except:\n",
    "        return 0\n",
    "\n",
    "# Aplicar funciones\n",
    "df['free_shipping'] = df['shipping'].apply(extract_free_shipping)\n",
    "df['local_pick_up'] = df['shipping'].apply(extract_local_pick_up)\n",
    "df['num_payment_methods'] = df['non_mercado_pago_payment_methods'].apply(extract_num_payment_methods)\n",
    "df['title_length'] = df['title'].apply(lambda x: len(str(x)))\n",
    "df['num_pictures'] = df['pictures'].apply(extract_num_pictures)\n",
    "df['sales_ratio'] = (df['initial_quantity'] - df['available_quantity']) / df['initial_quantity'].replace(0, 1)\n"
   ]
  },
  {
   "cell_type": "markdown",
   "id": "7233e0c1",
   "metadata": {},
   "source": [
    "Nuevas características:\n",
    "- free_shipping, local_pick_up: Extraídas de shipping.\n",
    "- num_payment_methods: Número de métodos de pago alternativos.\n",
    "- title_length: Longitud del título.\n",
    "- sales_ratio: Proporción de ventas.\n",
    "- num_pictures: Número de imágenes.\n"
   ]
  },
  {
   "cell_type": "markdown",
   "id": "a846739f",
   "metadata": {},
   "source": [
    "### Manejo de Redundancias y Outliers"
   ]
  },
  {
   "cell_type": "code",
   "execution_count": 39,
   "id": "c95e8ca0",
   "metadata": {},
   "outputs": [
    {
     "name": "stdout",
     "output_type": "stream",
     "text": [
      "- Eliminado base_price (redundante).\n",
      "- Filtrando precios < 10 ARS (valores irrealmente bajos).\n",
      "Número de registros después de eliminar outliers y filtrar precios bajos: 97848\n"
     ]
    }
   ],
   "source": [
    "# Eliminar initial_quantity, available_quantity y base_price\n",
    "if 'base_price' in df.columns:\n",
    "    df = df.drop(columns=['base_price'])\n",
    "    print(\"- Eliminado base_price (redundante).\")\n",
    "\n",
    "# Validar price en ARS\n",
    "min_price_threshold = 10\n",
    "print(f\"- Filtrando precios < {min_price_threshold} ARS (valores irrealmente bajos).\")\n",
    "df = df[df['price'] >= min_price_threshold]\n",
    "\n",
    "# Manejo de outliers basados en percentil 99\n",
    "numeric_cols = ['price', 'title_length', 'sales_ratio']\n",
    "for col in ['price', 'sales_ratio']:\n",
    "    p99 = df[col].quantile(0.99)\n",
    "    df = df[df[col] <= p99]\n",
    "print(f\"Número de registros después de eliminar outliers y filtrar precios bajos: {len(df)}\")\n",
    "\n",
    "# Verificar si se eliminaron demasiados datos\n",
    "if len(df) < 0.9 * 100000:\n",
    "    print(\"- Advertencia: Se eliminó más del 10% de los datos. Considerar ajustar percentiles o umbrales.\")"
   ]
  },
  {
   "cell_type": "markdown",
   "id": "49834b9f",
   "metadata": {},
   "source": [
    "### Análisis de Características Numéricas"
   ]
  },
  {
   "cell_type": "code",
   "execution_count": 40,
   "id": "411f86ce",
   "metadata": {},
   "outputs": [
    {
     "name": "stdout",
     "output_type": "stream",
     "text": [
      "Estadísticas de variables numéricas:\n",
      "               price  sold_quantity   sales_ratio  num_payment_methods\n",
      "count   97848.000000   97848.000000  97848.000000         97848.000000\n",
      "mean     1908.957201       1.872895      0.008638             1.596732\n",
      "std      8788.410306      38.739251      0.053913             1.409677\n",
      "min        10.000000       0.000000      0.000000             0.000000\n",
      "25%        90.000000       0.000000      0.000000             0.000000\n",
      "50%       250.000000       0.000000      0.000000             2.000000\n",
      "75%       799.000000       0.000000      0.000000             3.000000\n",
      "max    130000.000000    8676.000000      0.500000            12.000000\n"
     ]
    }
   ],
   "source": [
    "numeric_cols = ['price', 'sold_quantity', 'sales_ratio', 'num_payment_methods']\n",
    "print(\"Estadísticas de variables numéricas:\")\n",
    "print(df[numeric_cols].describe())"
   ]
  },
  {
   "cell_type": "code",
   "execution_count": 41,
   "id": "4bdaaed9",
   "metadata": {},
   "outputs": [
    {
     "data": {
      "image/png": "[encoded data removed]",
      "text/plain": [
       "<Figure size 640x480 with 1 Axes>"
      ]
     },
     "metadata": {},
     "output_type": "display_data"
    },
    {
     "data": {
      "image/png": "[encoded data removed]",
      "text/plain": [
       "<Figure size 640x480 with 1 Axes>"
      ]
     },
     "metadata": {},
     "output_type": "display_data"
    },
    {
     "data": {
      "image/png": "[encoded data removed]",
      "text/plain": [
       "<Figure size 640x480 with 1 Axes>"
      ]
     },
     "metadata": {},
     "output_type": "display_data"
    }
   ],
   "source": [
    "import seaborn as sns\n",
    "import matplotlib.pyplot as plt\n",
    "\n",
    "features_to_plot = ['price', 'sold_quantity', 'sales_ratio']\n",
    "for col in features_to_plot:\n",
    "    plt.figure()\n",
    "    sns.boxplot(x=df[col])\n",
    "    plt.title(f'Distribución de {col}')\n",
    "    plt.show()\n"
   ]
  },
  {
   "cell_type": "code",
   "execution_count": 42,
   "id": "20cc0692",
   "metadata": {},
   "outputs": [
    {
     "data": {
      "image/png": "[encoded data removed]",
      "text/plain": [
       "<Figure size 1000x800 with 2 Axes>"
      ]
     },
     "metadata": {},
     "output_type": "display_data"
    }
   ],
   "source": [
    "corr_matrix = df[numeric_cols].corr()\n",
    "plt.figure(figsize=(10, 8))\n",
    "sns.heatmap(corr_matrix, annot=True, cmap='viridis', vmin=-1, vmax=1, linewidths=1, linecolor='black')\n",
    "plt.title('Correlación Numéricas', pad=25)\n",
    "sns.despine(left=True, bottom=True)\n",
    "plt.figtext(0.99, 0.01, 'Nota: price en ARS, sin log', \n",
    "            ha='right', fontsize=10, style='italic')\n",
    "plt.tight_layout()\n"
   ]
  },
  {
   "cell_type": "markdown",
   "id": "a1c62812",
   "metadata": {},
   "source": [
    "### Análisis Categórico"
   ]
  },
  {
   "cell_type": "code",
   "execution_count": 43,
   "id": "e71c1999",
   "metadata": {},
   "outputs": [
    {
     "name": "stdout",
     "output_type": "stream",
     "text": [
      "\n",
      "Distribución de category_id:\n",
      "category_id\n",
      "MLA1227     0.046889\n",
      "MLA2044     0.019929\n",
      "MLA41287    0.009525\n",
      "MLA3530     0.007369\n",
      "MLA2038     0.006796\n",
      "MLA15171    0.005917\n",
      "MLA15328    0.004865\n",
      "MLA1383     0.004599\n",
      "MLA41269    0.004527\n",
      "MLA15204    0.004446\n",
      "Name: proportion, dtype: float64\n",
      "\n",
      "Distribución de listing_type_id:\n",
      "listing_type_id\n",
      "bronze          0.641505\n",
      "free            0.216387\n",
      "silver          0.084325\n",
      "gold_special    0.030578\n",
      "gold            0.020818\n",
      "gold_premium    0.006203\n",
      "gold_pro        0.000184\n",
      "Name: proportion, dtype: float64\n",
      "\n",
      "Distribución de buying_mode:\n",
      "buying_mode\n",
      "buy_it_now    0.979478\n",
      "classified    0.012938\n",
      "auction       0.007583\n",
      "Name: proportion, dtype: float64\n",
      "\n",
      "Distribución de currency_id:\n",
      "currency_id\n",
      "ARS    0.996679\n",
      "USD    0.003321\n",
      "Name: proportion, dtype: float64\n",
      "\n",
      "Distribución de status:\n",
      "status\n",
      "active            0.957393\n",
      "paused            0.042413\n",
      "closed            0.000184\n",
      "not_yet_active    0.000010\n",
      "Name: proportion, dtype: float64\n"
     ]
    }
   ],
   "source": [
    "categorical_cols = ['category_id', 'listing_type_id', 'buying_mode', 'currency_id', 'status']\n",
    "for col in categorical_cols:\n",
    "    if col in df.columns:\n",
    "        print(f\"\\nDistribución de {col}:\")\n",
    "        print(df[col].value_counts(normalize=True).head(10))\n",
    "        if len(df[col].unique()) == 1:\n",
    "            print(f\"- Advertencia: {col} constante. Se eliminará.\")\n"
   ]
  },
  {
   "cell_type": "code",
   "execution_count": 44,
   "id": "cfd75216",
   "metadata": {},
   "outputs": [
    {
     "name": "stdout",
     "output_type": "stream",
     "text": [
      "                                          seller_address  \\\n",
      "0      {'comment': '', 'longitude': -58.3986709, 'id'...   \n",
      "1      {'comment': '', 'longitude': -58.5059173, 'id'...   \n",
      "2      {'comment': '', 'longitude': -58.4143948, 'id'...   \n",
      "3      {'comment': '', 'longitude': -58.4929208, 'id'...   \n",
      "4      {'comment': '', 'longitude': -58.5495042, 'id'...   \n",
      "...                                                  ...   \n",
      "99995  {'comment': '', 'longitude': -58.6142895, 'id'...   \n",
      "99996  {'comment': '', 'longitude': '', 'id': 1114571...   \n",
      "99997  {'comment': '', 'longitude': -58.6241199, 'id'...   \n",
      "99998  {'comment': '', 'longitude': -58.4020374, 'id'...   \n",
      "99999  {'comment': '', 'longitude': -58.3713681, 'id'...   \n",
      "\n",
      "                                                warranty sub_status condition  \\\n",
      "0                                                   None         []       new   \n",
      "1                                     NUESTRA REPUTACION         []      used   \n",
      "2                                                   None         []      used   \n",
      "3                                                   None         []       new   \n",
      "4                                         MI REPUTACION.         []      used   \n",
      "...                                                  ...        ...       ...   \n",
      "99995                                               None         []      used   \n",
      "99996                                               None         []       new   \n",
      "99997                                               None         []      used   \n",
      "99998  Buen estado, se verifica al entregar. la total...         []      used   \n",
      "99999                                               None         []      used   \n",
      "\n",
      "      seller_contact deal_ids  \\\n",
      "0               None       []   \n",
      "1               None       []   \n",
      "2               None       []   \n",
      "3               None       []   \n",
      "4               None       []   \n",
      "...              ...      ...   \n",
      "99995           None       []   \n",
      "99996           None       []   \n",
      "99997           None       []   \n",
      "99998           None       []   \n",
      "99999           None       []   \n",
      "\n",
      "                                                shipping  \\\n",
      "0      {'local_pick_up': True, 'methods': [], 'tags':...   \n",
      "1      {'local_pick_up': True, 'methods': [], 'tags':...   \n",
      "2      {'local_pick_up': True, 'methods': [], 'tags':...   \n",
      "3      {'local_pick_up': True, 'methods': [], 'tags':...   \n",
      "4      {'local_pick_up': True, 'methods': [], 'tags':...   \n",
      "...                                                  ...   \n",
      "99995  {'local_pick_up': True, 'methods': [], 'tags':...   \n",
      "99996  {'local_pick_up': False, 'methods': [], 'tags'...   \n",
      "99997  {'local_pick_up': False, 'methods': [], 'tags'...   \n",
      "99998  {'local_pick_up': True, 'methods': [], 'tags':...   \n",
      "99999  {'local_pick_up': True, 'methods': [], 'tags':...   \n",
      "\n",
      "                        non_mercado_pago_payment_methods  seller_id  \\\n",
      "0      [{'description': 'Transferencia bancaria', 'id...   74952096   \n",
      "1      [{'description': 'Transferencia bancaria', 'id...   42093335   \n",
      "2      [{'description': 'Transferencia bancaria', 'id...  133384258   \n",
      "3      [{'description': 'Transferencia bancaria', 'id...  143001605   \n",
      "4      [{'description': 'Transferencia bancaria', 'id...   96873449   \n",
      "...                                                  ...        ...   \n",
      "99995  [{'description': 'Transferencia bancaria', 'id...   86277472   \n",
      "99996  [{'description': 'Tarjeta de crédito', 'id': '...  120301324   \n",
      "99997                                                 []   12147240   \n",
      "99998  [{'description': 'Transferencia bancaria', 'id...   86102489   \n",
      "99999  [{'description': 'Transferencia bancaria', 'id...   39061148   \n",
      "\n",
      "                                              variations  ...  \\\n",
      "0                                                     []  ...   \n",
      "1                                                     []  ...   \n",
      "2                                                     []  ...   \n",
      "3                                                     []  ...   \n",
      "4                                                     []  ...   \n",
      "...                                                  ...  ...   \n",
      "99995                                                 []  ...   \n",
      "99996                                                 []  ...   \n",
      "99997  [{'attribute_combinations': [{'value_id': '920...  ...   \n",
      "99998                                                 []  ...   \n",
      "99999                                                 []  ...   \n",
      "\n",
      "                                               permalink  \\\n",
      "0      http://articulo.mercadolibre.com.ar/MLA-578052...   \n",
      "1      http://articulo.mercadolibre.com.ar/MLA-581565...   \n",
      "2      http://articulo.mercadolibre.com.ar/MLA-578780...   \n",
      "3      http://articulo.mercadolibre.com.ar/MLA-581877...   \n",
      "4      http://articulo.mercadolibre.com.ar/MLA-576112...   \n",
      "...                                                  ...   \n",
      "99995  http://articulo.mercadolibre.com.ar/MLA-581735...   \n",
      "99996  http://articulo.mercadolibre.com.ar/MLA-579045...   \n",
      "99997  http://articulo.mercadolibre.com.ar/MLA-578170...   \n",
      "99998  http://articulo.mercadolibre.com.ar/MLA-575062...   \n",
      "99999  http://articulo.mercadolibre.com.ar/MLA-580630...   \n",
      "\n",
      "                                             geolocation sold_quantity  \\\n",
      "0      {'latitude': -34.6280698, 'longitude': -58.398...             0   \n",
      "1      {'latitude': -34.5935524, 'longitude': -58.505...             0   \n",
      "2      {'latitude': -34.6233907, 'longitude': -58.414...             0   \n",
      "3      {'latitude': -34.6281894, 'longitude': -58.492...             0   \n",
      "4      {'latitude': -34.6346547, 'longitude': -58.549...             0   \n",
      "...                                                  ...           ...   \n",
      "99995  {'latitude': -34.4893206, 'longitude': -58.614...             0   \n",
      "99996                  {'latitude': '', 'longitude': ''}             0   \n",
      "99997  {'latitude': -34.6467858, 'longitude': -58.624...             0   \n",
      "99998  {'latitude': -34.6100093, 'longitude': -58.402...             0   \n",
      "99999  {'latitude': -34.6215959, 'longitude': -58.371...             0   \n",
      "\n",
      "       available_quantity free_shipping local_pick_up num_payment_methods  \\\n",
      "0                       1         False          True                   3   \n",
      "1                       1         False          True                   2   \n",
      "2                       1         False          True                   3   \n",
      "3                       1         False          True                   3   \n",
      "4                       1         False          True                   3   \n",
      "...                   ...           ...           ...                 ...   \n",
      "99995                   1         False          True                   2   \n",
      "99996                   5         False         False                   2   \n",
      "99997                   1         False         False                   0   \n",
      "99998                   1         False          True                   2   \n",
      "99999                   1         False          True                   2   \n",
      "\n",
      "      title_length num_pictures sales_ratio  \n",
      "0               60            0         0.0  \n",
      "1               57            0         0.0  \n",
      "2               43            0         0.0  \n",
      "3               52            0         0.0  \n",
      "4               25            0         0.0  \n",
      "...            ...          ...         ...  \n",
      "99995           59            0         0.0  \n",
      "99996           60            0         0.0  \n",
      "99997           22            0         0.0  \n",
      "99998           47            0         0.0  \n",
      "99999           57            0         0.0  \n",
      "\n",
      "[97829 rows x 53 columns]\n"
     ]
    }
   ],
   "source": [
    "\n",
    "# Eliminamos las filas donde 'status' sea 'closed' o 'not_yet_active'\n",
    "df = df[~df['status'].isin(['closed', 'not_yet_active'])]\n",
    "\n",
    "# Mostrar el DataFrame filtrado\n",
    "print(df)\n"
   ]
  },
  {
   "cell_type": "markdown",
   "id": "fd961edd",
   "metadata": {},
   "source": [
    "### Analisís booleano"
   ]
  },
  {
   "cell_type": "code",
   "execution_count": 45,
   "id": "6e1f58ff",
   "metadata": {},
   "outputs": [
    {
     "name": "stdout",
     "output_type": "stream",
     "text": [
      "\n",
      "Distribución de accepts_mercadopago:\n",
      "accepts_mercadopago\n",
      "True     0.987059\n",
      "False    0.012941\n",
      "Name: proportion, dtype: float64\n",
      "\n",
      "Distribución de automatic_relist:\n",
      "automatic_relist\n",
      "False    0.953194\n",
      "True     0.046806\n",
      "Name: proportion, dtype: float64\n",
      "\n",
      "Distribución de free_shipping:\n",
      "free_shipping\n",
      "False    0.970101\n",
      "True     0.029899\n",
      "Name: proportion, dtype: float64\n",
      "\n",
      "Distribución de local_pick_up:\n",
      "local_pick_up\n",
      "True     0.802533\n",
      "False    0.197467\n",
      "Name: proportion, dtype: float64\n"
     ]
    }
   ],
   "source": [
    "boolean_cols = ['accepts_mercadopago', 'automatic_relist', 'free_shipping', 'local_pick_up']\n",
    "for col in boolean_cols:\n",
    "    if col in df.columns:\n",
    "        print(f\"\\nDistribución de {col}:\")\n",
    "        print(df[col].value_counts(normalize=True))\n",
    "        if len(df[col].unique()) == 1:\n",
    "            print(f\"- Advertencia: {col} constante. Se eliminará.\")"
   ]
  },
  {
   "cell_type": "markdown",
   "id": "7e2ded06",
   "metadata": {},
   "source": [
    "### Transformaciones"
   ]
  },
  {
   "cell_type": "markdown",
   "id": "785806ce",
   "metadata": {},
   "source": [
    "#### Eliminar columnas"
   ]
  },
  {
   "cell_type": "code",
   "execution_count": 46,
   "id": "ac0899f5",
   "metadata": {},
   "outputs": [
    {
     "name": "stdout",
     "output_type": "stream",
     "text": [
      "Columnas eliminadas: ['id', 'permalink', 'thumbnail', 'secure_thumbnail', 'descriptions', 'listing_source', 'international_delivery_mode', 'last_updated', 'differential_pricing', 'subtitle', 'catalog_product_id', 'original_price', 'official_store_id', 'seller_contact', 'video_id', 'seller_address', 'shipping', 'non_mercado_pago_payment_methods', 'attributes', 'variations', 'deal_ids', 'sub_status', 'coverage_areas', 'geolocation', 'parent_item_id', 'pictures', 'tags', 'location', 'date_created', 'start_time', 'stop_time', 'warranty', 'seller_id', 'site_id', 'currency_id', 'accepts_mercadopago', 'category_id']\n"
     ]
    }
   ],
   "source": [
    "columns_to_drop = [\n",
    "    'id', 'permalink', 'thumbnail', 'secure_thumbnail', 'descriptions', 'listing_source',\n",
    "    'international_delivery_mode', 'last_updated', 'differential_pricing',\n",
    "    'subtitle', 'catalog_product_id', 'original_price', 'official_store_id',\n",
    "    'seller_contact', 'video_id', 'seller_address', 'shipping', 'non_mercado_pago_payment_methods',\n",
    "    'attributes', 'variations', 'deal_ids', 'sub_status', 'coverage_areas', 'geolocation',\n",
    "    'parent_item_id', 'pictures', 'tags', 'location', 'date_created', 'start_time', 'stop_time',\n",
    "    'warranty', 'seller_id', 'site_id', 'currency_id', 'accepts_mercadopago', 'category_id'\n",
    "]\n",
    "df = df.drop(columns=[col for col in columns_to_drop if col in df.columns])\n",
    "print(\"Columnas eliminadas:\", columns_to_drop)\n",
    "\n"
   ]
  },
  {
   "cell_type": "code",
   "execution_count": 47,
   "id": "b9760991",
   "metadata": {},
   "outputs": [
    {
     "data": {
      "text/plain": [
       "Index(['condition', 'listing_type_id', 'price', 'buying_mode', 'title',\n",
       "       'automatic_relist', 'status', 'initial_quantity', 'sold_quantity',\n",
       "       'available_quantity', 'free_shipping', 'local_pick_up',\n",
       "       'num_payment_methods', 'title_length', 'num_pictures', 'sales_ratio'],\n",
       "      dtype='object')"
      ]
     },
     "execution_count": 47,
     "metadata": {},
     "output_type": "execute_result"
    }
   ],
   "source": [
    "df.columns"
   ]
  },
  {
   "cell_type": "code",
   "execution_count": 48,
   "id": "0e8eea40",
   "metadata": {},
   "outputs": [
    {
     "name": "stdout",
     "output_type": "stream",
     "text": [
      "(97829, 16)\n",
      "(97251, 16)\n"
     ]
    }
   ],
   "source": [
    "print(df.shape)\n",
    "df = df.drop_duplicates()\n",
    "print(df.shape)"
   ]
  },
  {
   "cell_type": "code",
   "execution_count": 49,
   "id": "d21e6a96",
   "metadata": {},
   "outputs": [],
   "source": [
    "df = df.drop(columns=[\"title\"])"
   ]
  },
  {
   "cell_type": "markdown",
   "id": "5a776e59",
   "metadata": {},
   "source": [
    "#### Codificar categóricas con One-Hot Encoding"
   ]
  },
  {
   "cell_type": "code",
   "execution_count": 50,
   "id": "23691da3",
   "metadata": {},
   "outputs": [
    {
     "name": "stdout",
     "output_type": "stream",
     "text": [
      "Categóricas codificadas con One-Hot Encoding: ['listing_type_id', 'buying_mode', 'status']\n"
     ]
    }
   ],
   "source": [
    "categorical_cols = ['listing_type_id', 'buying_mode', 'status']\n",
    "df = pd.get_dummies(df, columns=[col for col in categorical_cols if col in df.columns], \n",
    "                    prefix=['listing', 'buying', 'status'])\n",
    "print(\"Categóricas codificadas con One-Hot Encoding:\", categorical_cols)"
   ]
  },
  {
   "cell_type": "markdown",
   "id": "d2275e39",
   "metadata": {},
   "source": [
    "#### Codificar booleanas"
   ]
  },
  {
   "cell_type": "code",
   "execution_count": 51,
   "id": "f412a325",
   "metadata": {},
   "outputs": [
    {
     "name": "stdout",
     "output_type": "stream",
     "text": [
      "Booleanas codificadas a enteros (1/0): ['automatic_relist', 'free_shipping', 'local_pick_up', 'listing_bronze', 'listing_free', 'listing_gold', 'listing_gold_premium', 'listing_gold_pro', 'listing_gold_special', 'listing_silver', 'buying_auction', 'buying_buy_it_now', 'buying_classified', 'status_active', 'status_paused']\n"
     ]
    }
   ],
   "source": [
    "# Identificar todas las columnas booleanas\n",
    "boolean_cols = df.select_dtypes(include='bool').columns.tolist()\n",
    "\n",
    "# Convertirlas a enteros (0 y 1)\n",
    "df[boolean_cols] = df[boolean_cols].astype(int)\n",
    "\n",
    "print(\"Booleanas codificadas a enteros (1/0):\", boolean_cols)\n"
   ]
  },
  {
   "cell_type": "markdown",
   "id": "3cd55f9e",
   "metadata": {},
   "source": [
    "#### Codificar objetivo"
   ]
  },
  {
   "cell_type": "code",
   "execution_count": 52,
   "id": "44290b9a",
   "metadata": {},
   "outputs": [
    {
     "name": "stdout",
     "output_type": "stream",
     "text": [
      "Objetivo: used=0, new=1.\n"
     ]
    }
   ],
   "source": [
    "df['condition'] = df['condition'].map({'used': 0, 'new': 1})\n",
    "print(\"Objetivo: used=0, new=1.\")"
   ]
  },
  {
   "cell_type": "markdown",
   "id": "3c1b546f",
   "metadata": {},
   "source": [
    "#### Verificar el dataset"
   ]
  },
  {
   "cell_type": "code",
   "execution_count": 53,
   "id": "50e505d8",
   "metadata": {},
   "outputs": [
    {
     "data": {
      "text/html": [
       "<div>\n",
       "<style scoped>\n",
       "    .dataframe tbody tr th:only-of-type {\n",
       "        vertical-align: middle;\n",
       "    }\n",
       "\n",
       "    .dataframe tbody tr th {\n",
       "        vertical-align: top;\n",
       "    }\n",
       "\n",
       "    .dataframe thead th {\n",
       "        text-align: right;\n",
       "    }\n",
       "</style>\n",
       "<table border=\"1\" class=\"dataframe\">\n",
       "  <thead>\n",
       "    <tr style=\"text-align: right;\">\n",
       "      <th></th>\n",
       "      <th>condition</th>\n",
       "      <th>price</th>\n",
       "      <th>automatic_relist</th>\n",
       "      <th>initial_quantity</th>\n",
       "      <th>sold_quantity</th>\n",
       "      <th>available_quantity</th>\n",
       "      <th>free_shipping</th>\n",
       "      <th>local_pick_up</th>\n",
       "      <th>num_payment_methods</th>\n",
       "      <th>title_length</th>\n",
       "      <th>...</th>\n",
       "      <th>listing_gold</th>\n",
       "      <th>listing_gold_premium</th>\n",
       "      <th>listing_gold_pro</th>\n",
       "      <th>listing_gold_special</th>\n",
       "      <th>listing_silver</th>\n",
       "      <th>buying_auction</th>\n",
       "      <th>buying_buy_it_now</th>\n",
       "      <th>buying_classified</th>\n",
       "      <th>status_active</th>\n",
       "      <th>status_paused</th>\n",
       "    </tr>\n",
       "  </thead>\n",
       "  <tbody>\n",
       "    <tr>\n",
       "      <th>0</th>\n",
       "      <td>1</td>\n",
       "      <td>80.0</td>\n",
       "      <td>0</td>\n",
       "      <td>1</td>\n",
       "      <td>0</td>\n",
       "      <td>1</td>\n",
       "      <td>0</td>\n",
       "      <td>1</td>\n",
       "      <td>3</td>\n",
       "      <td>60</td>\n",
       "      <td>...</td>\n",
       "      <td>0</td>\n",
       "      <td>0</td>\n",
       "      <td>0</td>\n",
       "      <td>0</td>\n",
       "      <td>0</td>\n",
       "      <td>0</td>\n",
       "      <td>1</td>\n",
       "      <td>0</td>\n",
       "      <td>1</td>\n",
       "      <td>0</td>\n",
       "    </tr>\n",
       "    <tr>\n",
       "      <th>1</th>\n",
       "      <td>0</td>\n",
       "      <td>2650.0</td>\n",
       "      <td>0</td>\n",
       "      <td>1</td>\n",
       "      <td>0</td>\n",
       "      <td>1</td>\n",
       "      <td>0</td>\n",
       "      <td>1</td>\n",
       "      <td>2</td>\n",
       "      <td>57</td>\n",
       "      <td>...</td>\n",
       "      <td>0</td>\n",
       "      <td>0</td>\n",
       "      <td>0</td>\n",
       "      <td>0</td>\n",
       "      <td>1</td>\n",
       "      <td>0</td>\n",
       "      <td>1</td>\n",
       "      <td>0</td>\n",
       "      <td>1</td>\n",
       "      <td>0</td>\n",
       "    </tr>\n",
       "    <tr>\n",
       "      <th>2</th>\n",
       "      <td>0</td>\n",
       "      <td>60.0</td>\n",
       "      <td>0</td>\n",
       "      <td>1</td>\n",
       "      <td>0</td>\n",
       "      <td>1</td>\n",
       "      <td>0</td>\n",
       "      <td>1</td>\n",
       "      <td>3</td>\n",
       "      <td>43</td>\n",
       "      <td>...</td>\n",
       "      <td>0</td>\n",
       "      <td>0</td>\n",
       "      <td>0</td>\n",
       "      <td>0</td>\n",
       "      <td>0</td>\n",
       "      <td>0</td>\n",
       "      <td>1</td>\n",
       "      <td>0</td>\n",
       "      <td>1</td>\n",
       "      <td>0</td>\n",
       "    </tr>\n",
       "    <tr>\n",
       "      <th>3</th>\n",
       "      <td>1</td>\n",
       "      <td>580.0</td>\n",
       "      <td>0</td>\n",
       "      <td>1</td>\n",
       "      <td>0</td>\n",
       "      <td>1</td>\n",
       "      <td>0</td>\n",
       "      <td>1</td>\n",
       "      <td>3</td>\n",
       "      <td>52</td>\n",
       "      <td>...</td>\n",
       "      <td>0</td>\n",
       "      <td>0</td>\n",
       "      <td>0</td>\n",
       "      <td>0</td>\n",
       "      <td>1</td>\n",
       "      <td>0</td>\n",
       "      <td>1</td>\n",
       "      <td>0</td>\n",
       "      <td>1</td>\n",
       "      <td>0</td>\n",
       "    </tr>\n",
       "    <tr>\n",
       "      <th>4</th>\n",
       "      <td>0</td>\n",
       "      <td>30.0</td>\n",
       "      <td>0</td>\n",
       "      <td>1</td>\n",
       "      <td>0</td>\n",
       "      <td>1</td>\n",
       "      <td>0</td>\n",
       "      <td>1</td>\n",
       "      <td>3</td>\n",
       "      <td>25</td>\n",
       "      <td>...</td>\n",
       "      <td>0</td>\n",
       "      <td>0</td>\n",
       "      <td>0</td>\n",
       "      <td>0</td>\n",
       "      <td>0</td>\n",
       "      <td>0</td>\n",
       "      <td>1</td>\n",
       "      <td>0</td>\n",
       "      <td>1</td>\n",
       "      <td>0</td>\n",
       "    </tr>\n",
       "  </tbody>\n",
       "</table>\n",
       "<p>5 rows × 24 columns</p>\n",
       "</div>"
      ],
      "text/plain": [
       "   condition   price  automatic_relist  initial_quantity  sold_quantity  \\\n",
       "0          1    80.0                 0                 1              0   \n",
       "1          0  2650.0                 0                 1              0   \n",
       "2          0    60.0                 0                 1              0   \n",
       "3          1   580.0                 0                 1              0   \n",
       "4          0    30.0                 0                 1              0   \n",
       "\n",
       "   available_quantity  free_shipping  local_pick_up  num_payment_methods  \\\n",
       "0                   1              0              1                    3   \n",
       "1                   1              0              1                    2   \n",
       "2                   1              0              1                    3   \n",
       "3                   1              0              1                    3   \n",
       "4                   1              0              1                    3   \n",
       "\n",
       "   title_length  ...  listing_gold  listing_gold_premium  listing_gold_pro  \\\n",
       "0            60  ...             0                     0                 0   \n",
       "1            57  ...             0                     0                 0   \n",
       "2            43  ...             0                     0                 0   \n",
       "3            52  ...             0                     0                 0   \n",
       "4            25  ...             0                     0                 0   \n",
       "\n",
       "   listing_gold_special  listing_silver  buying_auction  buying_buy_it_now  \\\n",
       "0                     0               0               0                  1   \n",
       "1                     0               1               0                  1   \n",
       "2                     0               0               0                  1   \n",
       "3                     0               1               0                  1   \n",
       "4                     0               0               0                  1   \n",
       "\n",
       "   buying_classified  status_active  status_paused  \n",
       "0                  0              1              0  \n",
       "1                  0              1              0  \n",
       "2                  0              1              0  \n",
       "3                  0              1              0  \n",
       "4                  0              1              0  \n",
       "\n",
       "[5 rows x 24 columns]"
      ]
     },
     "execution_count": 53,
     "metadata": {},
     "output_type": "execute_result"
    }
   ],
   "source": [
    "df.head()"
   ]
  },
  {
   "cell_type": "code",
   "execution_count": 54,
   "id": "bb66b3a0",
   "metadata": {},
   "outputs": [
    {
     "name": "stdout",
     "output_type": "stream",
     "text": [
      "<class 'pandas.core.frame.DataFrame'>\n",
      "Index: 97251 entries, 0 to 99999\n",
      "Data columns (total 24 columns):\n",
      " #   Column                Non-Null Count  Dtype  \n",
      "---  ------                --------------  -----  \n",
      " 0   condition             97251 non-null  int64  \n",
      " 1   price                 97251 non-null  float64\n",
      " 2   automatic_relist      97251 non-null  int32  \n",
      " 3   initial_quantity      97251 non-null  int64  \n",
      " 4   sold_quantity         97251 non-null  int64  \n",
      " 5   available_quantity    97251 non-null  int64  \n",
      " 6   free_shipping         97251 non-null  int32  \n",
      " 7   local_pick_up         97251 non-null  int32  \n",
      " 8   num_payment_methods   97251 non-null  int64  \n",
      " 9   title_length          97251 non-null  int64  \n",
      " 10  num_pictures          97251 non-null  int64  \n",
      " 11  sales_ratio           97251 non-null  float64\n",
      " 12  listing_bronze        97251 non-null  int32  \n",
      " 13  listing_free          97251 non-null  int32  \n",
      " 14  listing_gold          97251 non-null  int32  \n",
      " 15  listing_gold_premium  97251 non-null  int32  \n",
      " 16  listing_gold_pro      97251 non-null  int32  \n",
      " 17  listing_gold_special  97251 non-null  int32  \n",
      " 18  listing_silver        97251 non-null  int32  \n",
      " 19  buying_auction        97251 non-null  int32  \n",
      " 20  buying_buy_it_now     97251 non-null  int32  \n",
      " 21  buying_classified     97251 non-null  int32  \n",
      " 22  status_active         97251 non-null  int32  \n",
      " 23  status_paused         97251 non-null  int32  \n",
      "dtypes: float64(2), int32(15), int64(7)\n",
      "memory usage: 13.0 MB\n"
     ]
    }
   ],
   "source": [
    "df.info()"
   ]
  },
  {
   "cell_type": "code",
   "execution_count": 55,
   "id": "c3126cea",
   "metadata": {},
   "outputs": [
    {
     "name": "stdout",
     "output_type": "stream",
     "text": [
      "\n",
      "Guardado en 'data/clean_dataset.csv'\n"
     ]
    }
   ],
   "source": [
    "df.to_csv('../data/clean_dataset.csv', index=False)\n",
    "print(\"\\nGuardado en 'data/clean_dataset.csv'\")"
   ]
  }
 ],
 "metadata": {
  "kernelspec": {
   "display_name": "venv",
   "language": "python",
   "name": "venv"
  },
  "language_info": {
   "codemirror_mode": {
    "name": "ipython",
    "version": 3
   },
   "file_extension": ".py",
   "mimetype": "text/x-python",
   "name": "python",
   "nbconvert_exporter": "python",
   "pygments_lexer": "ipython3",
   "version": "3.11.4"
  }
 },
 "nbformat": 4,
 "nbformat_minor": 5
}
